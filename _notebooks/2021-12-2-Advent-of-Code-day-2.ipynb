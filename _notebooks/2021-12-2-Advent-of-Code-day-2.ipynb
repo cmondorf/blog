{
  "nbformat": 4,
  "nbformat_minor": 0,
  "metadata": {
    "colab": {
      "name": "2021-12-2-Advent-of-Code-day-2.ipynb",
      "provenance": []
    },
    "kernelspec": {
      "name": "python3",
      "display_name": "Python 3"
    },
    "language_info": {
      "name": "python"
    }
  },
  "cells": [
    {
      "cell_type": "markdown",
      "metadata": {
        "id": "T8b-PTCP70cm"
      },
      "source": [
        "# Advent of Code 2021, day 2\n",
        "> Onwards to day 2 of Advent of Code.\n",
        "\n",
        "- toc: true \n",
        "- badges: true\n",
        "- comments: true\n",
        "- author: Christian Mondorf\n",
        "- categories: [advent of code]\n"
      ]
    },
    {
      "cell_type": "markdown",
      "metadata": {
        "id": "SNgLS07dDUqm"
      },
      "source": [
        "## Part 1: Dive!\n",
        "\n",
        "Today we're interpreting a series of commands for our submarine and calculating the final position we'll be in.\n",
        "\n",
        "Like yesterday, I captured the input through a user input right away."
      ]
    },
    {
      "cell_type": "code",
      "metadata": {
        "colab": {
          "base_uri": "https://localhost:8080/"
        },
        "id": "tUyR9v9PDYx3",
        "outputId": "ce6f090b-d876-4349-c533-37f0cf55d232"
      },
      "source": [
        "mvmt = input()\n",
        "#collapse_output"
      ],
      "execution_count": 1,
      "outputs": [
        {
          "name": "stdout",
          "output_type": "stream",
          "text": [
            "forward 1 down 6 forward 8 up 3 down 1 down 4 down 7 down 3 down 6 up 8 down 3 forward 8 up 4 forward 8 up 5 down 3 up 2 forward 3 forward 1 forward 1 up 4 down 6 forward 5 down 7 down 1 down 5 down 6 up 5 down 2 forward 7 down 9 forward 5 up 6 forward 2 down 2 down 2 down 1 forward 6 forward 8 up 5 down 6 down 7 forward 5 up 7 down 9 down 9 down 3 down 3 forward 1 down 2 up 8 down 1 down 7 down 4 forward 6 up 8 up 8 up 5 up 4 down 9 forward 4 down 3 down 8 up 8 up 7 down 3 forward 2 forward 3 forward 4 forward 9 up 2 forward 9 up 5 up 9 down 9 forward 2 down 7 down 2 forward 7 down 3 down 9 down 8 up 3 up 4 down 8 down 8 up 7 up 7 up 2 up 9 up 6 forward 7 forward 9 forward 1 up 9 down 2 forward 9 down 6 forward 6 down 5 up 2 forward 5 forward 2 down 6 down 3 forward 4 up 9 down 8 down 1 down 9 down 2 down 5 forward 6 forward 2 forward 4 down 5 down 8 forward 2 forward 1 forward 3 forward 4 up 4 forward 7 down 4 up 1 up 2 down 5 down 7 up 3 forward 6 up 2 down 1 down 4 down 3 forward 8 forward 4 down 7 up 8 down 8 down 1 forward 9 down 3 forward 1 down 2 up 4 down 4 down 5 up 3 up 1 up 2 forward 7 forward 4 forward 3 down 4 forward 7 forward 7 forward 8 forward 9 down 7 forward 9 forward 8 up 2 up 9 forward 3 forward 1 down 3 forward 3 up 7 up 1 forward 4 down 1 up 9 up 2 down 9 forward 4 forward 7 down 2 forward 7 forward 6 up 7 forward 8 up 7 up 2 down 8 down 6 down 6 forward 7 down 8 down 1 forward 3 down 1 down 9 forward 5 up 1 forward 6 up 8 down 1 forward 4 forward 6 up 4 up 8 forward 5 forward 4 forward 7 down 2 up 6 forward 7 forward 1 forward 5 down 6 forward 3 forward 4 forward 2 forward 8 down 5 forward 2 up 3 forward 2 forward 4 up 2 down 5 down 5 forward 4 forward 1 down 1 up 9 forward 4 forward 9 up 4 up 4 forward 6 down 6 forward 6 forward 7 down 2 forward 8 forward 6 down 4 down 3 down 5 down 5 up 2 down 6 up 5 up 4 down 8 down 7 down 9 down 7 forward 5 up 5 forward 4 forward 8 down 4 up 4 up 7 forward 8 up 4 up 2 forward 6 up 3 down 1 forward 6 forward 3 up 2 forward 2 forward 8 forward 8 forward 2 down 9 down 4 forward 8 forward 9 down 3 forward 5 up 7 down 6 up 2 up 6 up 8 forward 7 down 1 up 7 down 7 forward 1 forward 5 forward 4 down 8 forward 4 down 8 forward 1 down 7 down 8 forward 1 forward 2 down 3 down 3 up 4 forward 7 down 2 forward 9 up 8 down 1 forward 5 forward 6 forward 5 forward 3 down 6 down 1 up 4 down 9 forward 8 up 2 down 5 forward 1 up 2 down 8 down 9 forward 6 up 8 down 5 down 5 down 7 up 6 up 4 up 3 up 7 up 3 down 5 forward 9 up 6 down 1 down 8 down 8 forward 9 forward 3 forward 7 forward 3 forward 1 up 7 down 3 down 6 forward 8 up 5 forward 6 down 6 forward 3 down 1 up 8 forward 5 forward 9 up 1 up 1 forward 9 up 1 forward 4 forward 1 forward 7 down 6 up 1 forward 4 up 7 down 2 down 1 forward 2 up 4 forward 3 down 4 up 7 down 9 down 9 forward 8 down 4 up 7 down 4 forward 2 up 7 forward 2 forward 4 down 5 forward 4 down 6 forward 9 forward 1 forward 5 forward 7 up 5 down 9 down 5 down 5 up 7 forward 7 forward 6 up 7 forward 8 up 2 forward 5 down 9 up 3 down 5 forward 4 down 7 up 8 up 8 down 3 down 2 down 7 down 9 forward 6 forward 9 forward 9 forward 2 down 2 forward 4 forward 7 up 2 up 5 forward 8 down 1 down 1 down 9 down 2 forward 1 up 5 forward 6 down 1 forward 8 up 2 up 4 down 3 forward 6 forward 3 down 4 forward 9 down 6 down 9 up 2 down 4 down 6 forward 3 up 4 down 4 up 9 forward 4 forward 9 forward 2 forward 8 down 9 up 5 forward 8 down 1 forward 8 up 1 down 1 forward 7 up 6 down 2 up 1 down 8 down 4 forward 3 down 3 forward 6 forward 1 forward 9 down 5 down 9 down 6 down 2 forward 4 down 6 down 5 up 3 up 1 down 8 forward 7 forward 5 down 8 down 4 down 2 forward 5 forward 2 forward 5 down 5 forward 7 down 9 down 1 forward 2 down 4 down 1 forward 6 up 2 up 6 forward 7 down 1 up 5 down 6 forward 3 up 3 forward 5 forward 5 down 4 forward 4 down 8 down 2 up 3 up 4 down 9 up 5 down 6 forward 6 forward 6 up 9 up 2 forward 3 down 5 down 9 forward 2 up 3 forward 7 forward 1 up 9 down 8 up 9 forward 4 forward 4 forward 8 down 4 down 2 down 5 down 7 down 9 up 2 down 1 forward 7 down 4 down 1 forward 2 down 3 up 5 up 1 down 3 down 4 up 4 down 7 forward 6 forward 3 forward 4 down 5 up 3 up 9 forward 2 down 8 up 2 down 7 down 2 up 3 forward 5 forward 7 up 4 down 3 down 1 forward 5 forward 2 up 3 up 6 forward 8 down 5 forward 5 down 7 down 5 up 7 down 8 forward 5 down 9 up 5 forward 8 forward 6 forward 7 down 9 up 9 forward 3 down 8 forward 1 forward 5 forward 9 down 9 down 2 down 6 down 7 forward 8 down 6 down 8 up 8 down 2 forward 2 up 5 up 3 down 1 down 7 down 6 forward 4 up 5 forward 6 up 8 forward 3 up 6 forward 3 down 5 forward 8 forward 8 up 6 forward 5 down 4 down 7 down 5 down 9 forward 2 forward 9 down 9 forward 8 down 4 forward 4 forward 1 down 8 down 1 down 9 down 5 forward 4 up 6 down 7 down 1 up 4 down 4 down 6 down 4 up 8 down 2 forward 1 forward 4 down 1 down 1 up 2 forward 5 up 5 down 9 forward 3 down 3 forward 6 forward 4 down 6 forward 2 up 7 up 8 up 2 up 8 up 8 down 8 forward 4 down 1 forward 2 forward 9 up 3 down 2 down 1 up 4 down 9 down 6 forward 9 down 6 down 8 down 9 forward 2 up 7 forward 1 down 8 down 7 down 8 up 3 forward 3 up 7 forward 7 down 9 down 3 down 2 down 5 forward 9 up 1 down 7 forward 5 forward 4 forward 8 up 6 down 7 forward 5 up 5 down 1 forward 4 forward 9 down 2 forward 8 up 9 down 8 forward 8 up 6 forward 3 forward 1 up 5 down 6 forward 8 up 7 down 1 down 7 down 3 forward 7 down 9 down 5 down 2 forward 2 down 4 down 1 forward 8 down 4 up 1 forward 4 down 7 forward 6 down 5 up 8 forward 1 forward 2 up 5 down 7 forward 6 down 7 forward 6 down 8 down 2 up 3 down 6 forward 1 down 5 down 8 down 2 forward 6 up 4 forward 4 down 1 forward 9 forward 8 forward 4 forward 9 down 8 down 8 up 1 up 3 down 8 down 4 forward 4 down 6 up 7 down 8 down 3 down 2 down 7 down 5 down 7 forward 3 down 6 forward 6 down 1 forward 7 down 9 forward 2 down 7 forward 1 up 9 down 5 up 6 down 2 up 4 forward 5 forward 2 forward 6 down 2 forward 5 down 3 forward 6 up 7 up 5 up 3 up 5 up 4 down 8 up 8 forward 3 down 2 down 1 forward 2 down 8 down 8 down 1 up 7 down 1 forward 6 down 5 forward 7 up 3 up 4 forward 9 down 3 down 1 down 6 forward 1 forward 6 forward 2 forward 5 down 7 down 5 down 2 forward 6 down 7 forward 2 down 4 down 8 forward 2 forward 2 up 5 forward 5 down 5 down 4 up 7 down 3 forward 2 down 7 forward 2 forward 5 down 8 up 3 forward 4 forward 4 down 2 down 9 down 5 forward 2 forward 7 down 7 down 1 down 5 down 1 down 4 down 9 down 2 forward 9 forward 8 down 4 forward 9 down 9 down 7 down 6 down 2 forward 5 down 4 up 3 forward 2 up 5 forward 7 up 6 forward 3 forward 1 forward 3 down 7 forward 8 down 1 forward 1 forward 5 forward 5 up 4 down 7 down 8 forward 4 down 6 forward 1 forward 7 down 5 down 9 forward 2 down 3 down 5 forward 4 forward 5 forward 1 down 1 down 6 down 9 forward 1 forward 1 up 5 forward 3 up 3 up 5 down 2 forward 6 forward 3 down 4 up 3 down 8 down 4 up 3 down 7 forward 7 up 3 down 3 down 8 down 4 down 5 down 3 up 1 forward 4 forward 1 down 5 up 8 up 9 forward 1 up 8 down 3 forward 8 up 4 forward 5 forward 5 up 1 down 6 down 2 up 3 up 7 forward 7 down 7 up 9 forward 2 forward 8 forward 2 up 7 forward 3 down 8 down 7 forward 6 down 9 forward 4 forward 9 forward 2 down 2 down 6 down 8 forward 6 down 5 forward 7 up 8 down 6 forward 5 down 6 forward 1 forward 5 forward 1 up 9 forward 3 down 9 down 7 forward 3 up 6 down 9 down 6 down 9 forward 3 forward 5 up 3 up 9 down 1 down 8 down 4 forward 6 down 9 forward 4 forward 3 down 8 forward 5 forward 6 forward 5 forward 1 forward 7 forward 8 down 4 forward 9 up 3 down 3 forward 6 down 2 forward 7 down 2 forward 8 forward 3\n"
          ]
        }
      ]
    },
    {
      "cell_type": "markdown",
      "metadata": {
        "id": "Hjt-2txfD-5L"
      },
      "source": [
        "Next, I split the string into a list using blank spaces as separators."
      ]
    },
    {
      "cell_type": "code",
      "metadata": {
        "id": "beq4ofyMEBx9"
      },
      "source": [
        "mvmt_list = mvmt.split(' ')"
      ],
      "execution_count": 2,
      "outputs": []
    },
    {
      "cell_type": "markdown",
      "metadata": {
        "id": "qwPEVP-CEGJ_"
      },
      "source": [
        "Here's a quick sanity check."
      ]
    },
    {
      "cell_type": "code",
      "metadata": {
        "colab": {
          "base_uri": "https://localhost:8080/"
        },
        "id": "uwV_jbkXEIpE",
        "outputId": "69e56944-0a9b-4dc6-f4a3-a42429dc1dcb"
      },
      "source": [
        "print(mvmt_list[:10])"
      ],
      "execution_count": 3,
      "outputs": [
        {
          "output_type": "stream",
          "name": "stdout",
          "text": [
            "['forward', '1', 'down', '6', 'forward', '8', 'up', '3', 'down', '1']\n"
          ]
        }
      ]
    },
    {
      "cell_type": "code",
      "metadata": {
        "colab": {
          "base_uri": "https://localhost:8080/"
        },
        "id": "qUqS7Y1GELCt",
        "outputId": "a6fe0a22-37d3-43aa-a666-d27c6bedcfda"
      },
      "source": [
        "len(mvmt_list)"
      ],
      "execution_count": 4,
      "outputs": [
        {
          "output_type": "execute_result",
          "data": {
            "text/plain": [
              "2000"
            ]
          },
          "metadata": {},
          "execution_count": 4
        }
      ]
    },
    {
      "cell_type": "code",
      "metadata": {
        "colab": {
          "base_uri": "https://localhost:8080/"
        },
        "id": "-CdTiy8dEN_5",
        "outputId": "3a2aa8a7-1393-468a-9cb7-7446ff5312ff"
      },
      "source": [
        "print(mvmt_list[1999])"
      ],
      "execution_count": 5,
      "outputs": [
        {
          "output_type": "stream",
          "name": "stdout",
          "text": [
            "3\n"
          ]
        }
      ]
    },
    {
      "cell_type": "markdown",
      "metadata": {
        "id": "K0RoQviZEQ11"
      },
      "source": [
        "Nice. Next, I collected the entries in the list (after confirming that it's an even number of items as I expected) into tupples. This is because the first item in each tupple explains what we are to make of the integer in the second position of the tupple, as explained in the problem statement."
      ]
    },
    {
      "cell_type": "code",
      "metadata": {
        "id": "37Brxz4FERp9"
      },
      "source": [
        "mvmt_tpls = [(mvmt_list[i],mvmt_list[i+1]) for i in range(0,len(mvmt_list),2)]"
      ],
      "execution_count": 6,
      "outputs": []
    },
    {
      "cell_type": "code",
      "metadata": {
        "colab": {
          "base_uri": "https://localhost:8080/"
        },
        "id": "pn9XPpXxEVY8",
        "outputId": "a7d4855c-a435-4ccd-e15b-93b251404e6d"
      },
      "source": [
        "print(mvmt_tpls[:10])"
      ],
      "execution_count": 7,
      "outputs": [
        {
          "output_type": "stream",
          "name": "stdout",
          "text": [
            "[('forward', '1'), ('down', '6'), ('forward', '8'), ('up', '3'), ('down', '1'), ('down', '4'), ('down', '7'), ('down', '3'), ('down', '6'), ('up', '8')]\n"
          ]
        }
      ]
    },
    {
      "cell_type": "markdown",
      "metadata": {
        "id": "Rp92xeHrEY2h"
      },
      "source": [
        "I'll initialise the position as a list with two zeroes that I'll update as instructed in the problem statement."
      ]
    },
    {
      "cell_type": "code",
      "metadata": {
        "id": "yrD2DBA1EZxa"
      },
      "source": [
        "position = [0,0]"
      ],
      "execution_count": 8,
      "outputs": []
    },
    {
      "cell_type": "markdown",
      "metadata": {
        "id": "pHxLv5g7EdnU"
      },
      "source": [
        "I implemented the required logic using an if/elif/else decision structure. This wouldn't scale too well if there were too many options, but as their limited it's easy to grasp by reading."
      ]
    },
    {
      "cell_type": "code",
      "metadata": {
        "colab": {
          "base_uri": "https://localhost:8080/"
        },
        "id": "X4pdLzCPEeXZ",
        "outputId": "6eae38bd-1722-4a37-9512-3593c6672b17"
      },
      "source": [
        "for mvmt in mvmt_tpls:\n",
        "  if mvmt[0] == 'down':\n",
        "    position[1] += int(mvmt[1])\n",
        "  elif mvmt[0] == 'up':\n",
        "    position[1] -= int(mvmt[1])\n",
        "  else:\n",
        "    position[0] += int(mvmt[1])\n",
        "  \n",
        "result = position[0] * position[1]\n",
        "print(result)"
      ],
      "execution_count": 9,
      "outputs": [
        {
          "output_type": "stream",
          "name": "stdout",
          "text": [
            "1714950\n"
          ]
        }
      ]
    },
    {
      "cell_type": "markdown",
      "metadata": {
        "id": "ZJzTr5Y7Em3P"
      },
      "source": [
        "## Part 2: taking aim into account"
      ]
    },
    {
      "cell_type": "markdown",
      "metadata": {
        "id": "OBqhmeIlErIA"
      },
      "source": [
        "In this second part a new element is introduced: aim. Now the 'up' and 'down' instructions update an aim variable. The aim is used at the very end as a coefficient to determine how deep the submarine will be at the end of all the instructions it had to follow."
      ]
    },
    {
      "cell_type": "markdown",
      "metadata": {
        "id": "EEAwp29EEr8-"
      },
      "source": [
        "Setting the variables to zero:"
      ]
    },
    {
      "cell_type": "code",
      "metadata": {
        "id": "Cr3CNl-eEuS8"
      },
      "source": [
        "position = [0, 0]\n",
        "aim = 0"
      ],
      "execution_count": 10,
      "outputs": []
    },
    {
      "cell_type": "markdown",
      "metadata": {
        "id": "BO1k61BIEzED"
      },
      "source": [
        "'Down X' now increases aim. Similarly, 'Up X' now decreases aim.\n",
        "\n",
        "'Forward X' will now not only increase horizontal position, it will also increase depth by multiplying its value by the aim multiplied by X."
      ]
    },
    {
      "cell_type": "markdown",
      "metadata": {
        "id": "V9uyA3wnEz1d"
      },
      "source": [
        "\n",
        "Below is some code that is now commented out but which I used to iteratively refine my solution. I set the contents of mvmt_tpls to values that were given in the example in the problem statement."
      ]
    },
    {
      "cell_type": "code",
      "metadata": {
        "id": "mnDP5awjE2Ny"
      },
      "source": [
        "#position = [0, 0]\n",
        "#aim = 0\n",
        "#mvmt_tpls = [('forward', '5'), ('down', '5'), ('forward', '8'), ('up', '3'), ('down', '8'), ('forward', '2')]"
      ],
      "execution_count": 11,
      "outputs": []
    },
    {
      "cell_type": "markdown",
      "metadata": {
        "id": "oY16YQAyE7hw"
      },
      "source": [
        "Below is the final solution. Note the commented out print statements that were used for debugging."
      ]
    },
    {
      "cell_type": "code",
      "metadata": {
        "colab": {
          "base_uri": "https://localhost:8080/"
        },
        "id": "5_WJdzAQE8Vl",
        "outputId": "437928af-9345-4134-98f2-5e72e500aa2d"
      },
      "source": [
        "for mvmt in mvmt_tpls:\n",
        "  #print(mvmt)\n",
        "  if mvmt[0] == 'down':\n",
        "    aim += int(mvmt[1])\n",
        "  elif mvmt[0] == 'up':\n",
        "    aim -= int(mvmt[1])\n",
        "  else:\n",
        "    position[0] += int(mvmt[1])\n",
        "    position[1] += (aim * int(mvmt[1]))\n",
        "  #print(position)\n",
        "  #print(aim)\n",
        "  \n",
        "result = position[0] * position[1]\n",
        "print(result)"
      ],
      "execution_count": 12,
      "outputs": [
        {
          "output_type": "stream",
          "name": "stdout",
          "text": [
            "1281977850\n"
          ]
        }
      ]
    }
  ]
}