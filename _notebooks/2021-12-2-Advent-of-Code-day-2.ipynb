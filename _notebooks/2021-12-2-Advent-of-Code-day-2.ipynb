{
  "nbformat": 4,
  "nbformat_minor": 0,
  "metadata": {
    "colab": {
      "name": "2021-12-2-Advent-of-Code-day-2.ipynb",
      "provenance": [],
      "collapsed_sections": []
    },
    "kernelspec": {
      "name": "python3",
      "display_name": "Python 3"
    },
    "language_info": {
      "name": "python"
    }
  },
  "cells": [
    {
      "cell_type": "markdown",
      "metadata": {
        "id": "CNb0BA8oi87I"
      },
      "source": [
        "# Advent of Code 2021, day 2\n",
        "> Onwards to day 2 of Advent of Code.\n",
        "\n",
        "- toc: true \n",
        "- badges: true\n",
        "- comments: true\n",
        "- sticky_rank: 1\n",
        "- author: Christian Mondorf\n",
        "- image: \n",
        "- categories: [advent of code]"
      ]
    },
    {
      "cell_type": "markdown",
      "metadata": {
        "id": "CF04p37WSZsq"
      },
      "source": [
        "## Part 1: Dive!\n",
        "\n",
        "Today we're interpreting a series of commands for our submarine and calculating the final position we'll be in.\n",
        "\n",
        "Like yesterday, I captured the input through a user input right away."
      ]
    },
    {
      "cell_type": "code",
      "metadata": {
        "colab": {
          "base_uri": "https://localhost:8080/"
        },
        "id": "PaxLAsQojrYE",
        "outputId": "f67d1f40-1876-404e-fce8-3584e455dcb4"
      },
      "source": [
        "mvmt = input()\n",
        "#collapse_output"
      ],
      "execution_count": 25,
      "outputs": [
        {
          "name": "stdout",
          "output_type": "stream",
          "text": [
            "forward 1 down 6 forward 8 up 3 down 1 down 4 down 7 down 3 down 6 up 8 down 3 forward 8 up 4 forward 8 up 5 down 3 up 2 forward 3 forward 1 forward 1 up 4 down 6 forward 5 down 7 down 1 down 5 down 6 up 5 down 2 forward 7 down 9 forward 5 up 6 forward 2 down 2 down 2 down 1 forward 6 forward 8 up 5 down 6 down 7 forward 5 up 7 down 9 down 9 down 3 down 3 forward 1 down 2 up 8 down 1 down 7 down 4 forward 6 up 8 up 8 up 5 up 4 down 9 forward 4 down 3 down 8 up 8 up 7 down 3 forward 2 forward 3 forward 4 forward 9 up 2 forward 9 up 5 up 9 down 9 forward 2 down 7 down 2 forward 7 down 3 down 9 down 8 up 3 up 4 down 8 down 8 up 7 up 7 up 2 up 9 up 6 forward 7 forward 9 forward 1 up 9 down 2 forward 9 down 6 forward 6 down 5 up 2 forward 5 forward 2 down 6 down 3 forward 4 up 9 down 8 down 1 down 9 down 2 down 5 forward 6 forward 2 forward 4 down 5 down 8 forward 2 forward 1 forward 3 forward 4 up 4 forward 7 down 4 up 1 up 2 down 5 down 7 up 3 forward 6 up 2 down 1 down 4 down 3 forward 8 forward 4 down 7 up 8 down 8 down 1 forward 9 down 3 forward 1 down 2 up 4 down 4 down 5 up 3 up 1 up 2 forward 7 forward 4 forward 3 down 4 forward 7 forward 7 forward 8 forward 9 down 7 forward 9 forward 8 up 2 up 9 forward 3 forward 1 down 3 forward 3 up 7 up 1 forward 4 down 1 up 9 up 2 down 9 forward 4 forward 7 down 2 forward 7 forward 6 up 7 forward 8 up 7 up 2 down 8 down 6 down 6 forward 7 down 8 down 1 forward 3 down 1 down 9 forward 5 up 1 forward 6 up 8 down 1 forward 4 forward 6 up 4 up 8 forward 5 forward 4 forward 7 down 2 up 6 forward 7 forward 1 forward 5 down 6 forward 3 forward 4 forward 2 forward 8 down 5 forward 2 up 3 forward 2 forward 4 up 2 down 5 down 5 forward 4 forward 1 down 1 up 9 forward 4 forward 9 up 4 up 4 forward 6 down 6 forward 6 forward 7 down 2 forward 8 forward 6 down 4 down 3 down 5 down 5 up 2 down 6 up 5 up 4 down 8 down 7 down 9 down 7 forward 5 up 5 forward 4 forward 8 down 4 up 4 up 7 forward 8 up 4 up 2 forward 6 up 3 down 1 forward 6 forward 3 up 2 forward 2 forward 8 forward 8 forward 2 down 9 down 4 forward 8 forward 9 down 3 forward 5 up 7 down 6 up 2 up 6 up 8 forward 7 down 1 up 7 down 7 forward 1 forward 5 forward 4 down 8 forward 4 down 8 forward 1 down 7 down 8 forward 1 forward 2 down 3 down 3 up 4 forward 7 down 2 forward 9 up 8 down 1 forward 5 forward 6 forward 5 forward 3 down 6 down 1 up 4 down 9 forward 8 up 2 down 5 forward 1 up 2 down 8 down 9 forward 6 up 8 down 5 down 5 down 7 up 6 up 4 up 3 up 7 up 3 down 5 forward 9 up 6 down 1 down 8 down 8 forward 9 forward 3 forward 7 forward 3 forward 1 up 7 down 3 down 6 forward 8 up 5 forward 6 down 6 forward 3 down 1 up 8 forward 5 forward 9 up 1 up 1 forward 9 up 1 forward 4 forward 1 forward 7 down 6 up 1 forward 4 up 7 down 2 down 1 forward 2 up 4 forward 3 down 4 up 7 down 9 down 9 forward 8 down 4 up 7 down 4 forward 2 up 7 forward 2 forward 4 down 5 forward 4 down 6 forward 9 forward 1 forward 5 forward 7 up 5 down 9 down 5 down 5 up 7 forward 7 forward 6 up 7 forward 8 up 2 forward 5 down 9 up 3 down 5 forward 4 down 7 up 8 up 8 down 3 down 2 down 7 down 9 forward 6 forward 9 forward 9 forward 2 down 2 forward 4 forward 7 up 2 up 5 forward 8 down 1 down 1 down 9 down 2 forward 1 up 5 forward 6 down 1 forward 8 up 2 up 4 down 3 forward 6 forward 3 down 4 forward 9 down 6 down 9 up 2 down 4 down 6 forward 3 up 4 down 4 up 9 forward 4 forward 9 forward 2 forward 8 down 9 up 5 forward 8 down 1 forward 8 up 1 down 1 forward 7 up 6 down 2 up 1 down 8 down 4 forward 3 down 3 forward 6 forward 1 forward 9 down 5 down 9 down 6 down 2 forward 4 down 6 down 5 up 3 up 1 down 8 forward 7 forward 5 down 8 down 4 down 2 forward 5 forward 2 forward 5 down 5 forward 7 down 9 down 1 forward 2 down 4 down 1 forward 6 up 2 up 6 forward 7 down 1 up 5 down 6 forward 3 up 3 forward 5 forward 5 down 4 forward 4 down 8 down 2 up 3 up 4 down 9 up 5 down 6 forward 6 forward 6 up 9 up 2 forward 3 down 5 down 9 forward 2 up 3 forward 7 forward 1 up 9 down 8 up 9 forward 4 forward 4 forward 8 down 4 down 2 down 5 down 7 down 9 up 2 down 1 forward 7 down 4 down 1 forward 2 down 3 up 5 up 1 down 3 down 4 up 4 down 7 forward 6 forward 3 forward 4 down 5 up 3 up 9 forward 2 down 8 up 2 down 7 down 2 up 3 forward 5 forward 7 up 4 down 3 down 1 forward 5 forward 2 up 3 up 6 forward 8 down 5 forward 5 down 7 down 5 up 7 down 8 forward 5 down 9 up 5 forward 8 forward 6 forward 7 down 9 up 9 forward 3 down 8 forward 1 forward 5 forward 9 down 9 down 2 down 6 down 7 forward 8 down 6 down 8 up 8 down 2 forward 2 up 5 up 3 down 1 down 7 down 6 forward 4 up 5 forward 6 up 8 forward 3 up 6 forward 3 down 5 forward 8 forward 8 up 6 forward 5 down 4 down 7 down 5 down 9 forward 2 forward 9 down 9 forward 8 down 4 forward 4 forward 1 down 8 down 1 down 9 down 5 forward 4 up 6 down 7 down 1 up 4 down 4 down 6 down 4 up 8 down 2 forward 1 forward 4 down 1 down 1 up 2 forward 5 up 5 down 9 forward 3 down 3 forward 6 forward 4 down 6 forward 2 up 7 up 8 up 2 up 8 up 8 down 8 forward 4 down 1 forward 2 forward 9 up 3 down 2 down 1 up 4 down 9 down 6 forward 9 down 6 down 8 down 9 forward 2 up 7 forward 1 down 8 down 7 down 8 up 3 forward 3 up 7 forward 7 down 9 down 3 down 2 down 5 forward 9 up 1 down 7 forward 5 forward 4 forward 8 up 6 down 7 forward 5 up 5 down 1 forward 4 forward 9 down 2 forward 8 up 9 down 8 forward 8 up 6 forward 3 forward 1 up 5 down 6 forward 8 up 7 down 1 down 7 down 3 forward 7 down 9 down 5 down 2 forward 2 down 4 down 1 forward 8 down 4 up 1 forward 4 down 7 forward 6 down 5 up 8 forward 1 forward 2 up 5 down 7 forward 6 down 7 forward 6 down 8 down 2 up 3 down 6 forward 1 down 5 down 8 down 2 forward 6 up 4 forward 4 down 1 forward 9 forward 8 forward 4 forward 9 down 8 down 8 up 1 up 3 down 8 down 4 forward 4 down 6 up 7 down 8 down 3 down 2 down 7 down 5 down 7 forward 3 down 6 forward 6 down 1 forward 7 down 9 forward 2 down 7 forward 1 up 9 down 5 up 6 down 2 up 4 forward 5 forward 2 forward 6 down 2 forward 5 down 3 forward 6 up 7 up 5 up 3 up 5 up 4 down 8 up 8 forward 3 down 2 down 1 forward 2 down 8 down 8 down 1 up 7 down 1 forward 6 down 5 forward 7 up 3 up 4 forward 9 down 3 down 1 down 6 forward 1 forward 6 forward 2 forward 5 down 7 down 5 down 2 forward 6 down 7 forward 2 down 4 down 8 forward 2 forward 2 up 5 forward 5 down 5 down 4 up 7 down 3 forward 2 down 7 forward 2 forward 5 down 8 up 3 forward 4 forward 4 down 2 down 9 down 5 forward 2 forward 7 down 7 down 1 down 5 down 1 down 4 down 9 down 2 forward 9 forward 8 down 4 forward 9 down 9 down 7 down 6 down 2 forward 5 down 4 up 3 forward 2 up 5 forward 7 up 6 forward 3 forward 1 forward 3 down 7 forward 8 down 1 forward 1 forward 5 forward 5 up 4 down 7 down 8 forward 4 down 6 forward 1 forward 7 down 5 down 9 forward 2 down 3 down 5 forward 4 forward 5 forward 1 down 1 down 6 down 9 forward 1 forward 1 up 5 forward 3 up 3 up 5 down 2 forward 6 forward 3 down 4 up 3 down 8 down 4 up 3 down 7 forward 7 up 3 down 3 down 8 down 4 down 5 down 3 up 1 forward 4 forward 1 down 5 up 8 up 9 forward 1 up 8 down 3 forward 8 up 4 forward 5 forward 5 up 1 down 6 down 2 up 3 up 7 forward 7 down 7 up 9 forward 2 forward 8 forward 2 up 7 forward 3 down 8 down 7 forward 6 down 9 forward 4 forward 9 forward 2 down 2 down 6 down 8 forward 6 down 5 forward 7 up 8 down 6 forward 5 down 6 forward 1 forward 5 forward 1 up 9 forward 3 down 9 down 7 forward 3 up 6 down 9 down 6 down 9 forward 3 forward 5 up 3 up 9 down 1 down 8 down 4 forward 6 down 9 forward 4 forward 3 down 8 forward 5 forward 6 forward 5 forward 1 forward 7 forward 8 down 4 forward 9 up 3 down 3 forward 6 down 2 forward 7 down 2 forward 8 forward 3\n"
          ]
        }
      ]
    },
    {
      "cell_type": "markdown",
      "metadata": {
        "id": "kug2TiLDJkki"
      },
      "source": [
        "Next, I split the string into a list using blank spaces as separators."
      ]
    },
    {
      "cell_type": "code",
      "metadata": {
        "id": "CcuYBfOAjukm"
      },
      "source": [
        "mvmt_list = mvmt.split(' ')"
      ],
      "execution_count": 26,
      "outputs": []
    },
    {
      "cell_type": "markdown",
      "metadata": {
        "id": "4aey2E79JsJT"
      },
      "source": [
        "Here's a quick sanity check."
      ]
    },
    {
      "cell_type": "code",
      "metadata": {
        "colab": {
          "base_uri": "https://localhost:8080/"
        },
        "id": "_23RUKB-j0xt",
        "outputId": "1ad4f505-2ad6-4d98-8fbb-40a326461e6e"
      },
      "source": [
        "print(mvmt_list[:10])"
      ],
      "execution_count": 14,
      "outputs": [
        {
          "output_type": "stream",
          "name": "stdout",
          "text": [
            "['forward', '1', 'down', '6', 'forward', '8', 'up', '3', 'down', '1']\n"
          ]
        }
      ]
    },
    {
      "cell_type": "code",
      "metadata": {
        "colab": {
          "base_uri": "https://localhost:8080/"
        },
        "id": "YMXQzFhOkAQ8",
        "outputId": "5acc8efc-af95-4a52-a628-d3c019bce8a5"
      },
      "source": [
        "len(mvmt_list)"
      ],
      "execution_count": 15,
      "outputs": [
        {
          "output_type": "execute_result",
          "data": {
            "text/plain": [
              "2000"
            ]
          },
          "metadata": {},
          "execution_count": 15
        }
      ]
    },
    {
      "cell_type": "code",
      "metadata": {
        "colab": {
          "base_uri": "https://localhost:8080/"
        },
        "id": "gWdffltdqXgY",
        "outputId": "636f6c27-8a65-4e17-fdb3-3f8a4f397ab4"
      },
      "source": [
        "print(mvmt_list[1999])"
      ],
      "execution_count": 16,
      "outputs": [
        {
          "output_type": "stream",
          "name": "stdout",
          "text": [
            "3\n"
          ]
        }
      ]
    },
    {
      "cell_type": "markdown",
      "metadata": {
        "id": "oWBn3rGcJwcg"
      },
      "source": [
        "Nice.\n",
        "Next, I collected the entries in the list (after confirming that it's an even number of items as I expected) into tupples. This is because the first item in each tupple explains what we are to make of the integer in the second position of the tupple, as explained in the problem statement."
      ]
    },
    {
      "cell_type": "code",
      "metadata": {
        "id": "_Sh4VDnikDXu"
      },
      "source": [
        "mvmt_tpls = [(mvmt_list[i],mvmt_list[i+1]) for i in range(0,len(mvmt_list),2)]"
      ],
      "execution_count": 27,
      "outputs": []
    },
    {
      "cell_type": "code",
      "metadata": {
        "colab": {
          "base_uri": "https://localhost:8080/"
        },
        "id": "Uj7W8DKjCcxt",
        "outputId": "2a5c113e-4649-4d39-d09f-00bddcf17a9e"
      },
      "source": [
        "print(mvmt_tpls[:10])"
      ],
      "execution_count": 18,
      "outputs": [
        {
          "output_type": "stream",
          "name": "stdout",
          "text": [
            "[('forward', '1'), ('down', '6'), ('forward', '8'), ('up', '3'), ('down', '1'), ('down', '4'), ('down', '7'), ('down', '3'), ('down', '6'), ('up', '8')]\n"
          ]
        }
      ]
    },
    {
      "cell_type": "markdown",
      "metadata": {
        "id": "v1QnhgJoKZI3"
      },
      "source": [
        "I'll initialise the position as a list with two zeroes that I'll update as instructed in the problem statement."
      ]
    },
    {
      "cell_type": "code",
      "metadata": {
        "id": "ZxSy7CsnCiDm"
      },
      "source": [
        "position = [0,0]"
      ],
      "execution_count": 28,
      "outputs": []
    },
    {
      "cell_type": "markdown",
      "metadata": {
        "id": "vXPLzt6IKiq-"
      },
      "source": [
        "I implemented the required logic using an if/elif/else decision structure. This wouldn't scale too well if there were too many options, but as their limited it's easy to grasp by reading."
      ]
    },
    {
      "cell_type": "code",
      "metadata": {
        "colab": {
          "base_uri": "https://localhost:8080/"
        },
        "id": "L74xRncSGMC3",
        "outputId": "1e615b92-3ada-47c0-bd8b-a036d1854c26"
      },
      "source": [
        "for mvmt in mvmt_tpls:\n",
        "  if mvmt[0] == 'down':\n",
        "    position[1] += int(mvmt[1])\n",
        "  elif mvmt[0] == 'up':\n",
        "    position[1] -= int(mvmt[1])\n",
        "  else:\n",
        "    position[0] += int(mvmt[1])\n",
        "  \n",
        "result = position[0] * position[1]\n",
        "print(result)\n"
      ],
      "execution_count": 29,
      "outputs": [
        {
          "output_type": "stream",
          "name": "stdout",
          "text": [
            "1714950\n"
          ]
        }
      ]
    },
    {
      "cell_type": "markdown",
      "metadata": {
        "id": "mhcasozxSSec"
      },
      "source": [
        "## Part 2: taking aim into account\n",
        "\n"
      ]
    },
    {
      "cell_type": "markdown",
      "metadata": {
        "id": "59lnQ64rK2m-"
      },
      "source": [
        "In this second part a new element is introduced: aim. Now the 'up' and 'down' instructions update an aim variable. The aim is used at the very end as a coefficient to determine how deep the submarine will be at the end of all the instructions it had to follow."
      ]
    },
    {
      "cell_type": "markdown",
      "metadata": {
        "id": "dMXeExf2LkkP"
      },
      "source": [
        "Setting the variables to zero:"
      ]
    },
    {
      "cell_type": "code",
      "metadata": {
        "id": "kZVFo-_hGZpG"
      },
      "source": [
        "position = [0, 0]\n",
        "aim = 0"
      ],
      "execution_count": 30,
      "outputs": []
    },
    {
      "cell_type": "markdown",
      "metadata": {
        "id": "Vl3rt9rcTcnv"
      },
      "source": [
        "'Down X' now increases aim. Similarly, 'Up X' now  decreases aim.\n",
        "\n",
        "'Forward X' will now not only increase horizontal position, it will also increase depth by multiplying its value by the aim multiplied by X."
      ]
    },
    {
      "cell_type": "markdown",
      "metadata": {
        "id": "pLWjPoCQLp9E"
      },
      "source": [
        "Below is some code that is now commented out but which I used to iteratively refine my solution. I set the contents of `mvmt_tpls` to values that were given in the example in the problem statement."
      ]
    },
    {
      "cell_type": "code",
      "metadata": {
        "id": "uj4R6RKTUxxU"
      },
      "source": [
        "#position = [0, 0]\n",
        "#aim = 0\n",
        "#mvmt_tpls = [('forward', '5'), ('down', '5'), ('forward', '8'), ('up', '3'), ('down', '8'), ('forward', '2')]"
      ],
      "execution_count": 22,
      "outputs": []
    },
    {
      "cell_type": "markdown",
      "metadata": {
        "id": "Lc_ZPiVWL4Kw"
      },
      "source": [
        "Below is the final solution. Note the commented out print statements that were used for debugging."
      ]
    },
    {
      "cell_type": "code",
      "metadata": {
        "colab": {
          "base_uri": "https://localhost:8080/"
        },
        "id": "4ND1iNkZTCbb",
        "outputId": "e7f10e7f-3eae-4335-a08d-0cc99eb76938"
      },
      "source": [
        "\n",
        "\n",
        "for mvmt in mvmt_tpls:\n",
        "  #print(mvmt)\n",
        "  if mvmt[0] == 'down':\n",
        "    aim += int(mvmt[1])\n",
        "  elif mvmt[0] == 'up':\n",
        "    aim -= int(mvmt[1])\n",
        "  else:\n",
        "    position[0] += int(mvmt[1])\n",
        "    position[1] += (aim * int(mvmt[1]))\n",
        "  #print(position)\n",
        "  #print(aim)\n",
        "  \n",
        "result = position[0] * position[1]\n",
        "print(result)"
      ],
      "execution_count": 32,
      "outputs": [
        {
          "output_type": "stream",
          "name": "stdout",
          "text": [
            "11473226400\n"
          ]
        }
      ]
    }
  ]
}