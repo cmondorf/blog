{
  "nbformat": 4,
  "nbformat_minor": 0,
  "metadata": {
    "colab": {
      "name": "2021-12-2-Advent-of-Code-day-2.ipynb",
      "provenance": []
    },
    "kernelspec": {
      "name": "python3",
      "display_name": "Python 3"
    },
    "language_info": {
      "name": "python"
    }
  },
  "cells": [
    {
      "cell_type": "markdown",
      "metadata": {
        "id": "T8b-PTCP70cm"
      },
      "source": [
        "# Advent of Code 2021, day 2\n",
        "> Onwards to day 2 of Advent of Code.\n",
        "\n",
        "- toc: true \n",
        "- badges: true\n",
        "- comments: true\n",
        "- sticky_rank: 1\n",
        "- author: Christian Mondorf\n",
        "- image: \n",
        "- categories: [advent of code]"
      ]
    }
  ]
}